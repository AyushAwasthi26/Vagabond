{
 "cells": [
  {
   "cell_type": "markdown",
   "id": "684bcca8",
   "metadata": {},
   "source": [
    "### Code cleaning\n"
   ]
  },
  {
   "cell_type": "code",
   "execution_count": 11,
   "id": "1d7c6cc6",
   "metadata": {},
   "outputs": [],
   "source": [
    "import pandas as pd"
   ]
  },
  {
   "cell_type": "code",
   "execution_count": 12,
   "id": "c1d456fb",
   "metadata": {},
   "outputs": [],
   "source": [
    "data = pd.read_csv(\"Data set of famous India tourist places along with there images.csv\")"
   ]
  },
  {
   "cell_type": "code",
   "execution_count": 13,
   "id": "7ad862a9",
   "metadata": {},
   "outputs": [
    {
     "data": {
      "application/vnd.microsoft.datawrangler.viewer.v0+json": {
       "columns": [
        {
         "name": "index",
         "rawType": "int64",
         "type": "integer"
        },
        {
         "name": "Zone",
         "rawType": "object",
         "type": "string"
        },
        {
         "name": "State",
         "rawType": "object",
         "type": "string"
        },
        {
         "name": "City",
         "rawType": "object",
         "type": "string"
        },
        {
         "name": "Name",
         "rawType": "object",
         "type": "string"
        },
        {
         "name": "Type",
         "rawType": "object",
         "type": "string"
        },
        {
         "name": "Establishment Year",
         "rawType": "object",
         "type": "string"
        },
        {
         "name": "time needed to visit in hrs",
         "rawType": "float64",
         "type": "float"
        },
        {
         "name": "Google review rating",
         "rawType": "float64",
         "type": "float"
        },
        {
         "name": "Entrance Fee in INR",
         "rawType": "int64",
         "type": "integer"
        },
        {
         "name": "Airport with 50km Radius",
         "rawType": "object",
         "type": "string"
        },
        {
         "name": "Weekly Off",
         "rawType": "object",
         "type": "unknown"
        },
        {
         "name": "Significance",
         "rawType": "object",
         "type": "string"
        },
        {
         "name": "DSLR Allowed",
         "rawType": "object",
         "type": "string"
        },
        {
         "name": "Number of google review in lakhs",
         "rawType": "float64",
         "type": "float"
        },
        {
         "name": "Best Time to visit",
         "rawType": "object",
         "type": "string"
        },
        {
         "name": "Image URL",
         "rawType": "object",
         "type": "string"
        }
       ],
       "ref": "2265b306-cce2-4bdd-91f7-6d78127ba0b7",
       "rows": [
        [
         "0",
         "Western",
         "Gujarat",
         "Rann of Kutch",
         "Rann Utsav",
         "Cultural",
         "Unknown",
         "3.0",
         "4.9",
         "7500",
         "Yes",
         null,
         "Cultural",
         "Yes",
         "0.1",
         "Evening",
         "https://www.rannutsav.com/blog/wp-content/uploads/2024/12/141013682_715635635803639_4674705074199093637_n-1.png"
        ],
        [
         "1",
         "Northern",
         "Punjab",
         "Amritsar",
         "Golden Temple (Harmandir Sahib)",
         "Religious Site",
         "1604",
         "1.5",
         "4.9",
         "0",
         "Yes",
         null,
         "Spiritual",
         "Yes",
         "1.9",
         "All",
         "https://upload.wikimedia.org/wikipedia/commons/9/94/The_Golden_Temple_of_Amrithsar_7.jpg"
        ],
        [
         "2",
         "Northern",
         "Ladakh",
         "Leh",
         "Pangong Tso",
         "Lake",
         "Unknown",
         "2.0",
         "4.9",
         "20",
         "Yes",
         null,
         "Nature",
         "Yes",
         "0.15",
         "Morning",
         "https://dynamic-media-cdn.tripadvisor.com/media/photo-o/17/00/2f/67/img-20180620-wa0007-largejpg.jpg?w=900&h=500&s=1"
        ],
        [
         "3",
         "Western",
         "Maharastra",
         "Mumbai",
         "Siddhivinayak Temple",
         "Temple",
         "1881",
         "2.0",
         "4.8",
         "0",
         "Yes",
         null,
         "Religious",
         "No",
         "1.05",
         "All",
         "https://upload.wikimedia.org/wikipedia/commons/b/b9/Shree_Siddhivinayak_Temple_Mumbai.jpg"
        ],
        [
         "4",
         "Western",
         "Gujarat",
         "Somnath",
         "Somnath Temple",
         "Temple",
         "1951",
         "2.0",
         "4.8",
         "0",
         "No",
         null,
         "Religious",
         "No",
         "0.39",
         "Morning",
         "https://upload.wikimedia.org/wikipedia/commons/thumb/1/10/Somanath_mandir_%28cropped%29.jpg/640px-Somanath_mandir_%28cropped%29.jpg"
        ]
       ],
       "shape": {
        "columns": 16,
        "rows": 5
       }
      },
      "text/html": [
       "<div>\n",
       "<style scoped>\n",
       "    .dataframe tbody tr th:only-of-type {\n",
       "        vertical-align: middle;\n",
       "    }\n",
       "\n",
       "    .dataframe tbody tr th {\n",
       "        vertical-align: top;\n",
       "    }\n",
       "\n",
       "    .dataframe thead th {\n",
       "        text-align: right;\n",
       "    }\n",
       "</style>\n",
       "<table border=\"1\" class=\"dataframe\">\n",
       "  <thead>\n",
       "    <tr style=\"text-align: right;\">\n",
       "      <th></th>\n",
       "      <th>Zone</th>\n",
       "      <th>State</th>\n",
       "      <th>City</th>\n",
       "      <th>Name</th>\n",
       "      <th>Type</th>\n",
       "      <th>Establishment Year</th>\n",
       "      <th>time needed to visit in hrs</th>\n",
       "      <th>Google review rating</th>\n",
       "      <th>Entrance Fee in INR</th>\n",
       "      <th>Airport with 50km Radius</th>\n",
       "      <th>Weekly Off</th>\n",
       "      <th>Significance</th>\n",
       "      <th>DSLR Allowed</th>\n",
       "      <th>Number of google review in lakhs</th>\n",
       "      <th>Best Time to visit</th>\n",
       "      <th>Image URL</th>\n",
       "    </tr>\n",
       "  </thead>\n",
       "  <tbody>\n",
       "    <tr>\n",
       "      <th>0</th>\n",
       "      <td>Western</td>\n",
       "      <td>Gujarat</td>\n",
       "      <td>Rann of Kutch</td>\n",
       "      <td>Rann Utsav</td>\n",
       "      <td>Cultural</td>\n",
       "      <td>Unknown</td>\n",
       "      <td>3.0</td>\n",
       "      <td>4.9</td>\n",
       "      <td>7500</td>\n",
       "      <td>Yes</td>\n",
       "      <td>NaN</td>\n",
       "      <td>Cultural</td>\n",
       "      <td>Yes</td>\n",
       "      <td>0.10</td>\n",
       "      <td>Evening</td>\n",
       "      <td>https://www.rannutsav.com/blog/wp-content/uplo...</td>\n",
       "    </tr>\n",
       "    <tr>\n",
       "      <th>1</th>\n",
       "      <td>Northern</td>\n",
       "      <td>Punjab</td>\n",
       "      <td>Amritsar</td>\n",
       "      <td>Golden Temple (Harmandir Sahib)</td>\n",
       "      <td>Religious Site</td>\n",
       "      <td>1604</td>\n",
       "      <td>1.5</td>\n",
       "      <td>4.9</td>\n",
       "      <td>0</td>\n",
       "      <td>Yes</td>\n",
       "      <td>NaN</td>\n",
       "      <td>Spiritual</td>\n",
       "      <td>Yes</td>\n",
       "      <td>1.90</td>\n",
       "      <td>All</td>\n",
       "      <td>https://upload.wikimedia.org/wikipedia/commons...</td>\n",
       "    </tr>\n",
       "    <tr>\n",
       "      <th>2</th>\n",
       "      <td>Northern</td>\n",
       "      <td>Ladakh</td>\n",
       "      <td>Leh</td>\n",
       "      <td>Pangong Tso</td>\n",
       "      <td>Lake</td>\n",
       "      <td>Unknown</td>\n",
       "      <td>2.0</td>\n",
       "      <td>4.9</td>\n",
       "      <td>20</td>\n",
       "      <td>Yes</td>\n",
       "      <td>NaN</td>\n",
       "      <td>Nature</td>\n",
       "      <td>Yes</td>\n",
       "      <td>0.15</td>\n",
       "      <td>Morning</td>\n",
       "      <td>https://dynamic-media-cdn.tripadvisor.com/medi...</td>\n",
       "    </tr>\n",
       "    <tr>\n",
       "      <th>3</th>\n",
       "      <td>Western</td>\n",
       "      <td>Maharastra</td>\n",
       "      <td>Mumbai</td>\n",
       "      <td>Siddhivinayak Temple</td>\n",
       "      <td>Temple</td>\n",
       "      <td>1881</td>\n",
       "      <td>2.0</td>\n",
       "      <td>4.8</td>\n",
       "      <td>0</td>\n",
       "      <td>Yes</td>\n",
       "      <td>NaN</td>\n",
       "      <td>Religious</td>\n",
       "      <td>No</td>\n",
       "      <td>1.05</td>\n",
       "      <td>All</td>\n",
       "      <td>https://upload.wikimedia.org/wikipedia/commons...</td>\n",
       "    </tr>\n",
       "    <tr>\n",
       "      <th>4</th>\n",
       "      <td>Western</td>\n",
       "      <td>Gujarat</td>\n",
       "      <td>Somnath</td>\n",
       "      <td>Somnath Temple</td>\n",
       "      <td>Temple</td>\n",
       "      <td>1951</td>\n",
       "      <td>2.0</td>\n",
       "      <td>4.8</td>\n",
       "      <td>0</td>\n",
       "      <td>No</td>\n",
       "      <td>NaN</td>\n",
       "      <td>Religious</td>\n",
       "      <td>No</td>\n",
       "      <td>0.39</td>\n",
       "      <td>Morning</td>\n",
       "      <td>https://upload.wikimedia.org/wikipedia/commons...</td>\n",
       "    </tr>\n",
       "  </tbody>\n",
       "</table>\n",
       "</div>"
      ],
      "text/plain": [
       "       Zone       State           City                             Name  \\\n",
       "0   Western     Gujarat  Rann of Kutch                       Rann Utsav   \n",
       "1  Northern      Punjab       Amritsar  Golden Temple (Harmandir Sahib)   \n",
       "2  Northern      Ladakh            Leh                      Pangong Tso   \n",
       "3   Western  Maharastra         Mumbai             Siddhivinayak Temple   \n",
       "4   Western     Gujarat        Somnath                   Somnath Temple   \n",
       "\n",
       "             Type Establishment Year  time needed to visit in hrs  \\\n",
       "0        Cultural            Unknown                          3.0   \n",
       "1  Religious Site               1604                          1.5   \n",
       "2            Lake            Unknown                          2.0   \n",
       "3          Temple               1881                          2.0   \n",
       "4          Temple               1951                          2.0   \n",
       "\n",
       "   Google review rating  Entrance Fee in INR Airport with 50km Radius  \\\n",
       "0                   4.9                 7500                      Yes   \n",
       "1                   4.9                    0                      Yes   \n",
       "2                   4.9                   20                      Yes   \n",
       "3                   4.8                    0                      Yes   \n",
       "4                   4.8                    0                       No   \n",
       "\n",
       "  Weekly Off Significance DSLR Allowed  Number of google review in lakhs  \\\n",
       "0        NaN     Cultural          Yes                              0.10   \n",
       "1        NaN    Spiritual          Yes                              1.90   \n",
       "2        NaN       Nature          Yes                              0.15   \n",
       "3        NaN    Religious           No                              1.05   \n",
       "4        NaN    Religious           No                              0.39   \n",
       "\n",
       "  Best Time to visit                                          Image URL  \n",
       "0            Evening  https://www.rannutsav.com/blog/wp-content/uplo...  \n",
       "1                All  https://upload.wikimedia.org/wikipedia/commons...  \n",
       "2            Morning  https://dynamic-media-cdn.tripadvisor.com/medi...  \n",
       "3                All  https://upload.wikimedia.org/wikipedia/commons...  \n",
       "4            Morning  https://upload.wikimedia.org/wikipedia/commons...  "
      ]
     },
     "execution_count": 13,
     "metadata": {},
     "output_type": "execute_result"
    }
   ],
   "source": [
    "data.head()"
   ]
  },
  {
   "cell_type": "code",
   "execution_count": 14,
   "id": "567996d1",
   "metadata": {},
   "outputs": [
    {
     "data": {
      "application/vnd.microsoft.datawrangler.viewer.v0+json": {
       "columns": [
        {
         "name": "index",
         "rawType": "int64",
         "type": "integer"
        },
        {
         "name": "Zone",
         "rawType": "object",
         "type": "string"
        },
        {
         "name": "State",
         "rawType": "object",
         "type": "string"
        },
        {
         "name": "City",
         "rawType": "object",
         "type": "string"
        },
        {
         "name": "Name",
         "rawType": "object",
         "type": "string"
        },
        {
         "name": "Type",
         "rawType": "object",
         "type": "string"
        },
        {
         "name": "Google review rating",
         "rawType": "float64",
         "type": "float"
        },
        {
         "name": "Significance",
         "rawType": "object",
         "type": "string"
        },
        {
         "name": "Best Time to visit",
         "rawType": "object",
         "type": "string"
        },
        {
         "name": "Image URL",
         "rawType": "object",
         "type": "string"
        }
       ],
       "ref": "9dfe382e-b6f5-4b2b-b7f2-25a2de7b9076",
       "rows": [
        [
         "0",
         "Western",
         "Gujarat",
         "Rann of Kutch",
         "Rann Utsav",
         "Cultural",
         "4.9",
         "Cultural",
         "Evening",
         "https://www.rannutsav.com/blog/wp-content/uploads/2024/12/141013682_715635635803639_4674705074199093637_n-1.png"
        ],
        [
         "1",
         "Northern",
         "Punjab",
         "Amritsar",
         "Golden Temple (Harmandir Sahib)",
         "Religious Site",
         "4.9",
         "Spiritual",
         "All",
         "https://upload.wikimedia.org/wikipedia/commons/9/94/The_Golden_Temple_of_Amrithsar_7.jpg"
        ],
        [
         "2",
         "Northern",
         "Ladakh",
         "Leh",
         "Pangong Tso",
         "Lake",
         "4.9",
         "Nature",
         "Morning",
         "https://dynamic-media-cdn.tripadvisor.com/media/photo-o/17/00/2f/67/img-20180620-wa0007-largejpg.jpg?w=900&h=500&s=1"
        ],
        [
         "3",
         "Western",
         "Maharastra",
         "Mumbai",
         "Siddhivinayak Temple",
         "Temple",
         "4.8",
         "Religious",
         "All",
         "https://upload.wikimedia.org/wikipedia/commons/b/b9/Shree_Siddhivinayak_Temple_Mumbai.jpg"
        ],
        [
         "4",
         "Western",
         "Gujarat",
         "Somnath",
         "Somnath Temple",
         "Temple",
         "4.8",
         "Religious",
         "Morning",
         "https://upload.wikimedia.org/wikipedia/commons/thumb/1/10/Somanath_mandir_%28cropped%29.jpg/640px-Somanath_mandir_%28cropped%29.jpg"
        ]
       ],
       "shape": {
        "columns": 9,
        "rows": 5
       }
      },
      "text/html": [
       "<div>\n",
       "<style scoped>\n",
       "    .dataframe tbody tr th:only-of-type {\n",
       "        vertical-align: middle;\n",
       "    }\n",
       "\n",
       "    .dataframe tbody tr th {\n",
       "        vertical-align: top;\n",
       "    }\n",
       "\n",
       "    .dataframe thead th {\n",
       "        text-align: right;\n",
       "    }\n",
       "</style>\n",
       "<table border=\"1\" class=\"dataframe\">\n",
       "  <thead>\n",
       "    <tr style=\"text-align: right;\">\n",
       "      <th></th>\n",
       "      <th>Zone</th>\n",
       "      <th>State</th>\n",
       "      <th>City</th>\n",
       "      <th>Name</th>\n",
       "      <th>Type</th>\n",
       "      <th>Google review rating</th>\n",
       "      <th>Significance</th>\n",
       "      <th>Best Time to visit</th>\n",
       "      <th>Image URL</th>\n",
       "    </tr>\n",
       "  </thead>\n",
       "  <tbody>\n",
       "    <tr>\n",
       "      <th>0</th>\n",
       "      <td>Western</td>\n",
       "      <td>Gujarat</td>\n",
       "      <td>Rann of Kutch</td>\n",
       "      <td>Rann Utsav</td>\n",
       "      <td>Cultural</td>\n",
       "      <td>4.9</td>\n",
       "      <td>Cultural</td>\n",
       "      <td>Evening</td>\n",
       "      <td>https://www.rannutsav.com/blog/wp-content/uplo...</td>\n",
       "    </tr>\n",
       "    <tr>\n",
       "      <th>1</th>\n",
       "      <td>Northern</td>\n",
       "      <td>Punjab</td>\n",
       "      <td>Amritsar</td>\n",
       "      <td>Golden Temple (Harmandir Sahib)</td>\n",
       "      <td>Religious Site</td>\n",
       "      <td>4.9</td>\n",
       "      <td>Spiritual</td>\n",
       "      <td>All</td>\n",
       "      <td>https://upload.wikimedia.org/wikipedia/commons...</td>\n",
       "    </tr>\n",
       "    <tr>\n",
       "      <th>2</th>\n",
       "      <td>Northern</td>\n",
       "      <td>Ladakh</td>\n",
       "      <td>Leh</td>\n",
       "      <td>Pangong Tso</td>\n",
       "      <td>Lake</td>\n",
       "      <td>4.9</td>\n",
       "      <td>Nature</td>\n",
       "      <td>Morning</td>\n",
       "      <td>https://dynamic-media-cdn.tripadvisor.com/medi...</td>\n",
       "    </tr>\n",
       "    <tr>\n",
       "      <th>3</th>\n",
       "      <td>Western</td>\n",
       "      <td>Maharastra</td>\n",
       "      <td>Mumbai</td>\n",
       "      <td>Siddhivinayak Temple</td>\n",
       "      <td>Temple</td>\n",
       "      <td>4.8</td>\n",
       "      <td>Religious</td>\n",
       "      <td>All</td>\n",
       "      <td>https://upload.wikimedia.org/wikipedia/commons...</td>\n",
       "    </tr>\n",
       "    <tr>\n",
       "      <th>4</th>\n",
       "      <td>Western</td>\n",
       "      <td>Gujarat</td>\n",
       "      <td>Somnath</td>\n",
       "      <td>Somnath Temple</td>\n",
       "      <td>Temple</td>\n",
       "      <td>4.8</td>\n",
       "      <td>Religious</td>\n",
       "      <td>Morning</td>\n",
       "      <td>https://upload.wikimedia.org/wikipedia/commons...</td>\n",
       "    </tr>\n",
       "  </tbody>\n",
       "</table>\n",
       "</div>"
      ],
      "text/plain": [
       "       Zone       State           City                             Name  \\\n",
       "0   Western     Gujarat  Rann of Kutch                       Rann Utsav   \n",
       "1  Northern      Punjab       Amritsar  Golden Temple (Harmandir Sahib)   \n",
       "2  Northern      Ladakh            Leh                      Pangong Tso   \n",
       "3   Western  Maharastra         Mumbai             Siddhivinayak Temple   \n",
       "4   Western     Gujarat        Somnath                   Somnath Temple   \n",
       "\n",
       "             Type  Google review rating Significance Best Time to visit  \\\n",
       "0        Cultural                   4.9     Cultural            Evening   \n",
       "1  Religious Site                   4.9    Spiritual                All   \n",
       "2            Lake                   4.9       Nature            Morning   \n",
       "3          Temple                   4.8    Religious                All   \n",
       "4          Temple                   4.8    Religious            Morning   \n",
       "\n",
       "                                           Image URL  \n",
       "0  https://www.rannutsav.com/blog/wp-content/uplo...  \n",
       "1  https://upload.wikimedia.org/wikipedia/commons...  \n",
       "2  https://dynamic-media-cdn.tripadvisor.com/medi...  \n",
       "3  https://upload.wikimedia.org/wikipedia/commons...  \n",
       "4  https://upload.wikimedia.org/wikipedia/commons...  "
      ]
     },
     "execution_count": 14,
     "metadata": {},
     "output_type": "execute_result"
    }
   ],
   "source": [
    "cols_to_remove = [\n",
    "    \"time needed to visit in hrs\",\n",
    "    \"Entrance Fee in INR\",\n",
    "    \"Airport with 50km Radius\",\n",
    "    \"Weekly Off\",\n",
    "    \"DSLR Allowed\",\n",
    "    \"Number of google review in lakhs\",\n",
    "    \"Establishment Year\"\n",
    "]\n",
    "\n",
    "cleaned_data = data.drop(columns=cols_to_remove)\n",
    "\n",
    "# Show cleaned dataset preview\n",
    "cleaned_data.head()"
   ]
  },
  {
   "cell_type": "code",
   "execution_count": 15,
   "id": "0887aeba",
   "metadata": {},
   "outputs": [],
   "source": [
    "df = cleaned_data"
   ]
  },
  {
   "cell_type": "code",
   "execution_count": 16,
   "id": "c3c997b0",
   "metadata": {},
   "outputs": [
    {
     "data": {
      "application/vnd.microsoft.datawrangler.viewer.v0+json": {
       "columns": [
        {
         "name": "index",
         "rawType": "int64",
         "type": "integer"
        },
        {
         "name": "Zone",
         "rawType": "object",
         "type": "string"
        },
        {
         "name": "State",
         "rawType": "object",
         "type": "string"
        },
        {
         "name": "City",
         "rawType": "object",
         "type": "string"
        },
        {
         "name": "Name",
         "rawType": "object",
         "type": "string"
        },
        {
         "name": "Type",
         "rawType": "object",
         "type": "string"
        },
        {
         "name": "Google review rating",
         "rawType": "float64",
         "type": "float"
        },
        {
         "name": "Significance",
         "rawType": "object",
         "type": "string"
        },
        {
         "name": "Best Time to visit",
         "rawType": "object",
         "type": "string"
        },
        {
         "name": "Image URL",
         "rawType": "object",
         "type": "string"
        }
       ],
       "ref": "0684d202-5da1-41c7-8635-cfc9d3bcb936",
       "rows": [
        [
         "0",
         "Western",
         "Gujarat",
         "Rann of Kutch",
         "Rann Utsav",
         "Cultural",
         "4.9",
         "Cultural",
         "Evening",
         "https://www.rannutsav.com/blog/wp-content/uploads/2024/12/141013682_715635635803639_4674705074199093637_n-1.png"
        ],
        [
         "1",
         "Northern",
         "Punjab",
         "Amritsar",
         "Golden Temple (Harmandir Sahib)",
         "Religious Site",
         "4.9",
         "Spiritual",
         "All",
         "https://upload.wikimedia.org/wikipedia/commons/9/94/The_Golden_Temple_of_Amrithsar_7.jpg"
        ],
        [
         "2",
         "Northern",
         "Ladakh",
         "Leh",
         "Pangong Tso",
         "Lake",
         "4.9",
         "Nature",
         "Morning",
         "https://dynamic-media-cdn.tripadvisor.com/media/photo-o/17/00/2f/67/img-20180620-wa0007-largejpg.jpg?w=900&h=500&s=1"
        ],
        [
         "3",
         "Western",
         "Maharastra",
         "Mumbai",
         "Siddhivinayak Temple",
         "Temple",
         "4.8",
         "Religious",
         "All",
         "https://upload.wikimedia.org/wikipedia/commons/b/b9/Shree_Siddhivinayak_Temple_Mumbai.jpg"
        ],
        [
         "4",
         "Western",
         "Gujarat",
         "Somnath",
         "Somnath Temple",
         "Temple",
         "4.8",
         "Religious",
         "Morning",
         "https://upload.wikimedia.org/wikipedia/commons/thumb/1/10/Somanath_mandir_%28cropped%29.jpg/640px-Somanath_mandir_%28cropped%29.jpg"
        ]
       ],
       "shape": {
        "columns": 9,
        "rows": 5
       }
      },
      "text/html": [
       "<div>\n",
       "<style scoped>\n",
       "    .dataframe tbody tr th:only-of-type {\n",
       "        vertical-align: middle;\n",
       "    }\n",
       "\n",
       "    .dataframe tbody tr th {\n",
       "        vertical-align: top;\n",
       "    }\n",
       "\n",
       "    .dataframe thead th {\n",
       "        text-align: right;\n",
       "    }\n",
       "</style>\n",
       "<table border=\"1\" class=\"dataframe\">\n",
       "  <thead>\n",
       "    <tr style=\"text-align: right;\">\n",
       "      <th></th>\n",
       "      <th>Zone</th>\n",
       "      <th>State</th>\n",
       "      <th>City</th>\n",
       "      <th>Name</th>\n",
       "      <th>Type</th>\n",
       "      <th>Google review rating</th>\n",
       "      <th>Significance</th>\n",
       "      <th>Best Time to visit</th>\n",
       "      <th>Image URL</th>\n",
       "    </tr>\n",
       "  </thead>\n",
       "  <tbody>\n",
       "    <tr>\n",
       "      <th>0</th>\n",
       "      <td>Western</td>\n",
       "      <td>Gujarat</td>\n",
       "      <td>Rann of Kutch</td>\n",
       "      <td>Rann Utsav</td>\n",
       "      <td>Cultural</td>\n",
       "      <td>4.9</td>\n",
       "      <td>Cultural</td>\n",
       "      <td>Evening</td>\n",
       "      <td>https://www.rannutsav.com/blog/wp-content/uplo...</td>\n",
       "    </tr>\n",
       "    <tr>\n",
       "      <th>1</th>\n",
       "      <td>Northern</td>\n",
       "      <td>Punjab</td>\n",
       "      <td>Amritsar</td>\n",
       "      <td>Golden Temple (Harmandir Sahib)</td>\n",
       "      <td>Religious Site</td>\n",
       "      <td>4.9</td>\n",
       "      <td>Spiritual</td>\n",
       "      <td>All</td>\n",
       "      <td>https://upload.wikimedia.org/wikipedia/commons...</td>\n",
       "    </tr>\n",
       "    <tr>\n",
       "      <th>2</th>\n",
       "      <td>Northern</td>\n",
       "      <td>Ladakh</td>\n",
       "      <td>Leh</td>\n",
       "      <td>Pangong Tso</td>\n",
       "      <td>Lake</td>\n",
       "      <td>4.9</td>\n",
       "      <td>Nature</td>\n",
       "      <td>Morning</td>\n",
       "      <td>https://dynamic-media-cdn.tripadvisor.com/medi...</td>\n",
       "    </tr>\n",
       "    <tr>\n",
       "      <th>3</th>\n",
       "      <td>Western</td>\n",
       "      <td>Maharastra</td>\n",
       "      <td>Mumbai</td>\n",
       "      <td>Siddhivinayak Temple</td>\n",
       "      <td>Temple</td>\n",
       "      <td>4.8</td>\n",
       "      <td>Religious</td>\n",
       "      <td>All</td>\n",
       "      <td>https://upload.wikimedia.org/wikipedia/commons...</td>\n",
       "    </tr>\n",
       "    <tr>\n",
       "      <th>4</th>\n",
       "      <td>Western</td>\n",
       "      <td>Gujarat</td>\n",
       "      <td>Somnath</td>\n",
       "      <td>Somnath Temple</td>\n",
       "      <td>Temple</td>\n",
       "      <td>4.8</td>\n",
       "      <td>Religious</td>\n",
       "      <td>Morning</td>\n",
       "      <td>https://upload.wikimedia.org/wikipedia/commons...</td>\n",
       "    </tr>\n",
       "  </tbody>\n",
       "</table>\n",
       "</div>"
      ],
      "text/plain": [
       "       Zone       State           City                             Name  \\\n",
       "0   Western     Gujarat  Rann of Kutch                       Rann Utsav   \n",
       "1  Northern      Punjab       Amritsar  Golden Temple (Harmandir Sahib)   \n",
       "2  Northern      Ladakh            Leh                      Pangong Tso   \n",
       "3   Western  Maharastra         Mumbai             Siddhivinayak Temple   \n",
       "4   Western     Gujarat        Somnath                   Somnath Temple   \n",
       "\n",
       "             Type  Google review rating Significance Best Time to visit  \\\n",
       "0        Cultural                   4.9     Cultural            Evening   \n",
       "1  Religious Site                   4.9    Spiritual                All   \n",
       "2            Lake                   4.9       Nature            Morning   \n",
       "3          Temple                   4.8    Religious                All   \n",
       "4          Temple                   4.8    Religious            Morning   \n",
       "\n",
       "                                           Image URL  \n",
       "0  https://www.rannutsav.com/blog/wp-content/uplo...  \n",
       "1  https://upload.wikimedia.org/wikipedia/commons...  \n",
       "2  https://dynamic-media-cdn.tripadvisor.com/medi...  \n",
       "3  https://upload.wikimedia.org/wikipedia/commons...  \n",
       "4  https://upload.wikimedia.org/wikipedia/commons...  "
      ]
     },
     "execution_count": 16,
     "metadata": {},
     "output_type": "execute_result"
    }
   ],
   "source": [
    "df.head()"
   ]
  },
  {
   "cell_type": "code",
   "execution_count": 17,
   "id": "caefee00",
   "metadata": {},
   "outputs": [],
   "source": [
    "df[\"features\"] = df[\"Type\"] + \" \" + df[\"Significance\"] + \" \" + df[\"State\"] + \" \" + df[\"City\"]"
   ]
  },
  {
   "cell_type": "code",
   "execution_count": 18,
   "id": "60aed096",
   "metadata": {},
   "outputs": [],
   "source": [
    "from sklearn.feature_extraction.text import TfidfVectorizer\n",
    "\n",
    "# Convert features to TF-IDF\n",
    "vectorizer = TfidfVectorizer(stop_words=\"english\")\n",
    "tfidf_matrix = vectorizer.fit_transform(df[\"features\"])\n"
   ]
  },
  {
   "cell_type": "code",
   "execution_count": 19,
   "id": "6353a3cf",
   "metadata": {},
   "outputs": [],
   "source": [
    "from sklearn.metrics.pairwise import cosine_similarity\n",
    "\n",
    "# Compute cosine similarity\n",
    "cosine_sim = cosine_similarity(tfidf_matrix, tfidf_matrix)\n"
   ]
  },
  {
   "cell_type": "code",
   "execution_count": 20,
   "id": "de0fff8b",
   "metadata": {},
   "outputs": [],
   "source": [
    "def recommend_place(place_name, top_n=5):\n",
    "    # Get index of the place\n",
    "    idx = df[df[\"Name\"] == place_name].index[0]\n",
    "    \n",
    "    # Get similarity scores\n",
    "    sim_scores = list(enumerate(cosine_sim[idx]))\n",
    "    \n",
    "    # Sort by similarity (ignore itself)\n",
    "    sim_scores = sorted(sim_scores, key=lambda x: x[1], reverse=True)[1:top_n+1]\n",
    "    \n",
    "    # Get recommended indices\n",
    "    place_indices = [i[0] for i in sim_scores]\n",
    "    \n",
    "    # Return recommended places with images\n",
    "    return df.iloc[place_indices][[\"Name\", \"City\", \"State\", \"Best Time to visit\", \"Image URL\"]]\n"
   ]
  },
  {
   "cell_type": "code",
   "execution_count": 21,
   "id": "aa6c176e",
   "metadata": {},
   "outputs": [
    {
     "data": {
      "application/vnd.microsoft.datawrangler.viewer.v0+json": {
       "columns": [
        {
         "name": "index",
         "rawType": "int64",
         "type": "integer"
        },
        {
         "name": "Name",
         "rawType": "object",
         "type": "string"
        },
        {
         "name": "City",
         "rawType": "object",
         "type": "string"
        },
        {
         "name": "State",
         "rawType": "object",
         "type": "string"
        },
        {
         "name": "Best Time to visit",
         "rawType": "object",
         "type": "string"
        },
        {
         "name": "Image URL",
         "rawType": "object",
         "type": "string"
        }
       ],
       "ref": "10d5ff8a-7c55-4c64-82f9-14dd87c8b78f",
       "rows": [
        [
         "31",
         "Dakshineswar Kali Temple",
         "Kolkata",
         "West Bengal",
         "Morning",
         "https://upload.wikimedia.org/wikipedia/commons/thumb/3/32/Dakhineshwar_Temple_beside_the_Hoogly%2C_West_Bengal.JPG/800px-Dakhineshwar_Temple_beside_the_Hoogly%2C_West_Bengal.JPG"
        ],
        [
         "205",
         "Kalighat Kali Temple",
         "Kolkata",
         "West Bengal",
         "Morning",
         "https://www.templepurohit.com/wp-content/uploads/2015/01/Kalighat-Kali-Temple-Kolkata.jpg"
        ],
        [
         "207",
         "Marble Palace",
         "Kolkata",
         "West Bengal",
         "Afternoon",
         "https://upload.wikimedia.org/wikipedia/commons/thumb/8/84/Marble_Palace-_Kolkata-_West_Bengal-_DSC_0006.jpg/1200px-Marble_Palace-_Kolkata-_West_Bengal-_DSC_0006.jpg"
        ],
        [
         "81",
         "Victoria Memorial",
         "Kolkata",
         "West Bengal",
         "Morning",
         "https://upload.wikimedia.org/wikipedia/commons/7/72/Victoria_Memorial_situated_in_Kolkata.jpg"
        ],
        [
         "83",
         "Indian Museum",
         "Kolkata",
         "West Bengal",
         "Morning",
         "https://upload.wikimedia.org/wikipedia/commons/8/8c/Indian_Museum%2C_Courtyard%2C_Kolkata%2C_India.jpg"
        ]
       ],
       "shape": {
        "columns": 5,
        "rows": 5
       }
      },
      "text/html": [
       "<div>\n",
       "<style scoped>\n",
       "    .dataframe tbody tr th:only-of-type {\n",
       "        vertical-align: middle;\n",
       "    }\n",
       "\n",
       "    .dataframe tbody tr th {\n",
       "        vertical-align: top;\n",
       "    }\n",
       "\n",
       "    .dataframe thead th {\n",
       "        text-align: right;\n",
       "    }\n",
       "</style>\n",
       "<table border=\"1\" class=\"dataframe\">\n",
       "  <thead>\n",
       "    <tr style=\"text-align: right;\">\n",
       "      <th></th>\n",
       "      <th>Name</th>\n",
       "      <th>City</th>\n",
       "      <th>State</th>\n",
       "      <th>Best Time to visit</th>\n",
       "      <th>Image URL</th>\n",
       "    </tr>\n",
       "  </thead>\n",
       "  <tbody>\n",
       "    <tr>\n",
       "      <th>31</th>\n",
       "      <td>Dakshineswar Kali Temple</td>\n",
       "      <td>Kolkata</td>\n",
       "      <td>West Bengal</td>\n",
       "      <td>Morning</td>\n",
       "      <td>https://upload.wikimedia.org/wikipedia/commons...</td>\n",
       "    </tr>\n",
       "    <tr>\n",
       "      <th>205</th>\n",
       "      <td>Kalighat Kali Temple</td>\n",
       "      <td>Kolkata</td>\n",
       "      <td>West Bengal</td>\n",
       "      <td>Morning</td>\n",
       "      <td>https://www.templepurohit.com/wp-content/uploa...</td>\n",
       "    </tr>\n",
       "    <tr>\n",
       "      <th>207</th>\n",
       "      <td>Marble Palace</td>\n",
       "      <td>Kolkata</td>\n",
       "      <td>West Bengal</td>\n",
       "      <td>Afternoon</td>\n",
       "      <td>https://upload.wikimedia.org/wikipedia/commons...</td>\n",
       "    </tr>\n",
       "    <tr>\n",
       "      <th>81</th>\n",
       "      <td>Victoria Memorial</td>\n",
       "      <td>Kolkata</td>\n",
       "      <td>West Bengal</td>\n",
       "      <td>Morning</td>\n",
       "      <td>https://upload.wikimedia.org/wikipedia/commons...</td>\n",
       "    </tr>\n",
       "    <tr>\n",
       "      <th>83</th>\n",
       "      <td>Indian Museum</td>\n",
       "      <td>Kolkata</td>\n",
       "      <td>West Bengal</td>\n",
       "      <td>Morning</td>\n",
       "      <td>https://upload.wikimedia.org/wikipedia/commons...</td>\n",
       "    </tr>\n",
       "  </tbody>\n",
       "</table>\n",
       "</div>"
      ],
      "text/plain": [
       "                         Name     City        State Best Time to visit  \\\n",
       "31   Dakshineswar Kali Temple  Kolkata  West Bengal            Morning   \n",
       "205      Kalighat Kali Temple  Kolkata  West Bengal            Morning   \n",
       "207             Marble Palace  Kolkata  West Bengal          Afternoon   \n",
       "81          Victoria Memorial  Kolkata  West Bengal            Morning   \n",
       "83              Indian Museum  Kolkata  West Bengal            Morning   \n",
       "\n",
       "                                             Image URL  \n",
       "31   https://upload.wikimedia.org/wikipedia/commons...  \n",
       "205  https://www.templepurohit.com/wp-content/uploa...  \n",
       "207  https://upload.wikimedia.org/wikipedia/commons...  \n",
       "81   https://upload.wikimedia.org/wikipedia/commons...  \n",
       "83   https://upload.wikimedia.org/wikipedia/commons...  "
      ]
     },
     "execution_count": 21,
     "metadata": {},
     "output_type": "execute_result"
    }
   ],
   "source": [
    "recommend_place(\"Belur Math\", top_n=5)\n"
   ]
  },
  {
   "cell_type": "code",
   "execution_count": 22,
   "id": "953619fb",
   "metadata": {},
   "outputs": [
    {
     "name": "stdout",
     "output_type": "stream",
     "text": [
      "Model saved as cosine_sim.pkl\n"
     ]
    }
   ],
   "source": [
    "import pickle\n",
    "\n",
    "# Suppose your cosine similarity matrix is called 'cosine_sim'\n",
    "with open(\"cosine_sim.pkl\", \"wb\") as f:\n",
    "    pickle.dump(cosine_sim, f)\n",
    "\n",
    "print(\"Model saved as cosine_sim.pkl\")\n"
   ]
  },
  {
   "cell_type": "code",
   "execution_count": null,
   "id": "edc5c44d",
   "metadata": {},
   "outputs": [],
   "source": []
  }
 ],
 "metadata": {
  "kernelspec": {
   "display_name": "Python 3",
   "language": "python",
   "name": "python3"
  },
  "language_info": {
   "codemirror_mode": {
    "name": "ipython",
    "version": 3
   },
   "file_extension": ".py",
   "mimetype": "text/x-python",
   "name": "python",
   "nbconvert_exporter": "python",
   "pygments_lexer": "ipython3",
   "version": "3.13.1"
  }
 },
 "nbformat": 4,
 "nbformat_minor": 5
}
